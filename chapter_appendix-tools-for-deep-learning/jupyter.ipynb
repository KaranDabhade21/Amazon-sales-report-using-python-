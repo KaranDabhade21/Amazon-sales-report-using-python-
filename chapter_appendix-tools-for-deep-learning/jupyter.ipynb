{
  "cells": [
    {
      "cell_type": "markdown",
      "metadata": {
        "id": "view-in-github",
        "colab_type": "text"
      },
      "source": [
        "<a href=\"https://colab.research.google.com/github/KaranDabhade21/Amazon-sales-report-using-python-/blob/main/chapter_appendix-tools-for-deep-learning/jupyter.ipynb\" target=\"_parent\"><img src=\"https://colab.research.google.com/assets/colab-badge.svg\" alt=\"Open In Colab\"/></a>"
      ]
    },
    {
      "cell_type": "markdown",
      "id": "31d9a4c9",
      "metadata": {
        "origin_pos": 0,
        "id": "31d9a4c9"
      },
      "source": [
        "# Using Jupyter Notebooks\n",
        ":label:`sec_jupyter`\n",
        "\n",
        "\n",
        "This section describes how to edit and run the code\n",
        "in each section of this book\n",
        "using the Jupyter Notebook. Make sure you have\n",
        "installed Jupyter and downloaded the\n",
        "code as described in\n",
        ":ref:`chap_installation`.\n",
        "If you want to know more about Jupyter see the excellent tutorial in\n",
        "their [documentation](https://jupyter.readthedocs.io/en/latest/).\n",
        "\n",
        "\n",
        "## Editing and Running the Code Locally\n",
        "\n",
        "Suppose that the local path of the book's code is `xx/yy/d2l-en/`. Use the shell to change the directory to this path (`cd xx/yy/d2l-en`) and run the command `jupyter notebook`. If your browser does not do this automatically, open http://localhost:8888 and you will see the interface of Jupyter and all the folders containing the code of the book, as shown in :numref:`fig_jupyter00`.\n",
        "\n",
        "![The folders containing the code of this book.](https://github.com/d2l-ai/d2l-en-colab/blob/master/img/jupyter00.png?raw=1)\n",
        ":width:`600px`\n",
        ":label:`fig_jupyter00`\n",
        "\n",
        "\n",
        "You can access the notebook files by clicking on the folder displayed on the webpage.\n",
        "They usually have the suffix \".ipynb\".\n",
        "For the sake of brevity, we create a temporary \"test.ipynb\" file.\n",
        "The content displayed after you click it is\n",
        "shown in :numref:`fig_jupyter01`.\n",
        "This notebook includes a markdown cell and a code cell. The content in the markdown cell includes \"This Is a Title\" and \"This is text.\".\n",
        "The code cell contains two lines of Python code.\n",
        "\n",
        "![Markdown and code cells in the \"text.ipynb\" file.](https://github.com/d2l-ai/d2l-en-colab/blob/master/img/jupyter01.png?raw=1)\n",
        ":width:`600px`\n",
        ":label:`fig_jupyter01`\n",
        "\n",
        "\n",
        "Double click on the markdown cell to enter edit mode.\n",
        "Add a new text string \"Hello world.\" at the end of the cell, as shown in :numref:`fig_jupyter02`.\n",
        "\n",
        "![Edit the markdown cell.](https://github.com/d2l-ai/d2l-en-colab/blob/master/img/jupyter02.png?raw=1)\n",
        ":width:`600px`\n",
        ":label:`fig_jupyter02`\n",
        "\n",
        "\n",
        "As demonstrated in :numref:`fig_jupyter03`,\n",
        "click \"Cell\" $\\rightarrow$ \"Run Cells\" in the menu bar to run the edited cell.\n",
        "\n",
        "![Run the cell.](https://github.com/d2l-ai/d2l-en-colab/blob/master/img/jupyter03.png?raw=1)\n",
        ":width:`600px`\n",
        ":label:`fig_jupyter03`\n",
        "\n",
        "After running, the markdown cell is shown in :numref:`fig_jupyter04`.\n",
        "\n",
        "![The markdown cell after running.](https://github.com/d2l-ai/d2l-en-colab/blob/master/img/jupyter04.png?raw=1)\n",
        ":width:`600px`\n",
        ":label:`fig_jupyter04`\n",
        "\n",
        "\n",
        "Next, click on the code cell. Multiply the elements by 2 after the last line of code, as shown in :numref:`fig_jupyter05`.\n",
        "\n",
        "![Edit the code cell.](https://github.com/d2l-ai/d2l-en-colab/blob/master/img/jupyter05.png?raw=1)\n",
        ":width:`600px`\n",
        ":label:`fig_jupyter05`\n",
        "\n",
        "\n",
        "You can also run the cell with a shortcut (\"Ctrl + Enter\" by default) and obtain the output result from :numref:`fig_jupyter06`.\n",
        "\n",
        "![Run the code cell to obtain the output.](https://github.com/d2l-ai/d2l-en-colab/blob/master/img/jupyter06.png?raw=1)\n",
        ":width:`600px`\n",
        ":label:`fig_jupyter06`\n",
        "\n",
        "\n",
        "When a notebook contains more cells, we can click \"Kernel\" $\\rightarrow$ \"Restart & Run All\" in the menu bar to run all the cells in the entire notebook. By clicking \"Help\" $\\rightarrow$ \"Edit Keyboard Shortcuts\" in the menu bar, you can edit the shortcuts according to your preferences.\n",
        "\n",
        "## Advanced Options\n",
        "\n",
        "Beyond local editing two things are quite important: editing the notebooks in the markdown format and running Jupyter remotely.\n",
        "The latter matters when we want to run the code on a faster server.\n",
        "The former matters since Jupyter's native ipynb format stores a lot of auxiliary data that is\n",
        "irrelevant to the content,\n",
        "mostly related to how and where the code is run.\n",
        "This is confusing for Git, making\n",
        "reviewing contributions very difficult.\n",
        "Fortunately there is an alternative---native editing in the markdown format.\n",
        "\n",
        "### Markdown Files in Jupyter\n",
        "\n",
        "If you wish to contribute to the content of this book, you need to modify the\n",
        "source file (md file, not ipynb file) on GitHub.\n",
        "Using the notedown plugin we\n",
        "can modify notebooks in the md format directly in Jupyter.\n",
        "\n",
        "\n",
        "First, install the notedown plugin, run the Jupyter Notebook, and load the plugin:\n",
        "\n",
        "```\n",
        "pip install d2l-notedown  # You may need to uninstall the original notedown.\n",
        "jupyter notebook --NotebookApp.contents_manager_class='notedown.NotedownContentsManager'\n",
        "```\n",
        "\n",
        "You may also turn on the notedown plugin by default whenever you run the Jupyter Notebook.\n",
        "First, generate a Jupyter Notebook configuration file (if it has already been generated, you can skip this step).\n",
        "\n",
        "```\n",
        "jupyter notebook --generate-config\n",
        "```\n",
        "\n",
        "Then, add the following line to the end of the Jupyter Notebook configuration file (for Linux or macOS, usually in the path `~/.jupyter/jupyter_notebook_config.py`):\n",
        "\n",
        "```\n",
        "c.NotebookApp.contents_manager_class = 'notedown.NotedownContentsManager'\n",
        "```\n",
        "\n",
        "After that, you only need to run the `jupyter notebook` command to turn on the notedown plugin by default.\n",
        "\n",
        "### Running Jupyter Notebooks on a Remote Server\n",
        "\n",
        "Sometimes, you may want to run Jupyter notebooks on a remote server and access it through a browser on your local computer. If Linux or macOS is installed on your local machine (Windows can also support this function through third-party software such as PuTTY), you can use port forwarding:\n",
        "\n",
        "```\n",
        "ssh myserver -L 8888:localhost:8888\n",
        "```\n",
        "\n",
        "The above string `myserver` is the address of the remote server.\n",
        "Then we can use http://localhost:8888 to access the remote server `myserver` that runs Jupyter notebooks. We will detail on how to run Jupyter notebooks on AWS instances\n",
        "later in this appendix.\n",
        "\n",
        "### Timing\n",
        "\n",
        "We can use the `ExecuteTime` plugin to time the execution of each code cell in Jupyter notebooks.\n",
        "Use the following commands to install the plugin:\n",
        "\n",
        "```\n",
        "pip install jupyter_contrib_nbextensions\n",
        "jupyter contrib nbextension install --user\n",
        "jupyter nbextension enable execute_time/ExecuteTime\n",
        "```\n",
        "\n",
        "## Summary\n",
        "\n",
        "* Using the Jupyter Notebook tool, we can edit, run, and contribute to each section of the book.\n",
        "* We can run Jupyter notebooks on remote servers using port forwarding.\n",
        "\n",
        "\n",
        "## Exercises\n",
        "\n",
        "1. Edit and run the code in this book with the Jupyter Notebook on your local machine.\n",
        "1. Edit and run the code in this book with the Jupyter Notebook *remotely* via port forwarding.\n",
        "1. Compare the running time of the operations $\\mathbf{A}^\\top \\mathbf{B}$ and $\\mathbf{A} \\mathbf{B}$ for two square matrices in $\\mathbb{R}^{1024 \\times 1024}$. Which one is faster?\n",
        "\n",
        "\n",
        "[Discussions](https://discuss.d2l.ai/t/421)\n"
      ]
    },
    {
      "cell_type": "code",
      "source": [
        "def myfunc(a,b):\n",
        "  c = a + b\n",
        "  return c\n",
        "\n",
        "a = myfunc(10,10)\n",
        "print(a)"
      ],
      "metadata": {
        "colab": {
          "base_uri": "https://localhost:8080/"
        },
        "id": "ihPcZkIQ5_IN",
        "outputId": "6006dd23-7ccb-44b0-9a61-ae31c1be0a2b"
      },
      "id": "ihPcZkIQ5_IN",
      "execution_count": 2,
      "outputs": [
        {
          "output_type": "stream",
          "name": "stdout",
          "text": [
            "20\n"
          ]
        }
      ]
    },
    {
      "cell_type": "code",
      "source": [
        "def myfunc(a,b):\n",
        "  result = a+b\n",
        "  print(f\"multiply {a} and {b} = {result}\")\n",
        "\n",
        "myfunc(10,10)\n"
      ],
      "metadata": {
        "colab": {
          "base_uri": "https://localhost:8080/"
        },
        "id": "YQFHF7I15_ar",
        "outputId": "3da43010-c553-43c5-c4df-55fb99c0267a"
      },
      "id": "YQFHF7I15_ar",
      "execution_count": 6,
      "outputs": [
        {
          "output_type": "stream",
          "name": "stdout",
          "text": [
            "multiply 10 and 10 = 20\n"
          ]
        }
      ]
    },
    {
      "cell_type": "code",
      "source": [
        "def myfunc(a,b):\n",
        "  print(f\"multiply {a} and {b}\")\n",
        "  result = a+b\n",
        "  return result\n",
        "\n",
        "myfunc(10,10)"
      ],
      "metadata": {
        "colab": {
          "base_uri": "https://localhost:8080/"
        },
        "id": "gEapmrO85_eE",
        "outputId": "1be75cc2-e4c6-4fa9-d5dc-3ce72c82b858"
      },
      "id": "gEapmrO85_eE",
      "execution_count": 7,
      "outputs": [
        {
          "output_type": "stream",
          "name": "stdout",
          "text": [
            "multiply 10 and 10\n"
          ]
        },
        {
          "output_type": "execute_result",
          "data": {
            "text/plain": [
              "20"
            ]
          },
          "metadata": {},
          "execution_count": 7
        }
      ]
    },
    {
      "cell_type": "code",
      "source": [
        "square = lambda x: x** 2\n",
        "\n",
        "print(square(2))\n",
        "print(square(10))"
      ],
      "metadata": {
        "colab": {
          "base_uri": "https://localhost:8080/"
        },
        "id": "aJcvxvwv7Rcl",
        "outputId": "e90623ae-1912-4d01-8047-9a6ffe43f1c6"
      },
      "id": "aJcvxvwv7Rcl",
      "execution_count": 11,
      "outputs": [
        {
          "output_type": "stream",
          "name": "stdout",
          "text": [
            "4\n",
            "100\n"
          ]
        }
      ]
    },
    {
      "cell_type": "code",
      "source": [
        "text = \"grape orange grape orange banana\"\n",
        "word = text.split()\n",
        "word_count = {word: word.count(word)\n",
        "              for word in set(word)}\n",
        "print(word_count)"
      ],
      "metadata": {
        "colab": {
          "base_uri": "https://localhost:8080/"
        },
        "id": "1qqQmokM8NRL",
        "outputId": "a1ab0a7a-a462-4b66-d8ec-296e952098ae"
      },
      "id": "1qqQmokM8NRL",
      "execution_count": 14,
      "outputs": [
        {
          "output_type": "stream",
          "name": "stdout",
          "text": [
            "{'orange': 1, 'banana': 1, 'grape': 1}\n"
          ]
        }
      ]
    },
    {
      "cell_type": "code",
      "source": [
        "def example():\n",
        "  return \"this is end here\"\n",
        "\n",
        "example(\n",
        "\n",
        ")"
      ],
      "metadata": {
        "colab": {
          "base_uri": "https://localhost:8080/",
          "height": 36
        },
        "id": "2tCT5BU0-vOv",
        "outputId": "a68008d0-995d-4eaa-e118-0a09ef87848a"
      },
      "id": "2tCT5BU0-vOv",
      "execution_count": 15,
      "outputs": [
        {
          "output_type": "execute_result",
          "data": {
            "text/plain": [
              "'this is end here'"
            ],
            "application/vnd.google.colaboratory.intrinsic+json": {
              "type": "string"
            }
          },
          "metadata": {},
          "execution_count": 15
        }
      ]
    },
    {
      "cell_type": "code",
      "source": [
        "def multiple(x):\n",
        "  if x > 0:\n",
        "    return \"this is positive number\"\n",
        "\n",
        "  return \"this is negative number\"\n",
        "\n",
        "multiple(2)\n",
        "\n"
      ],
      "metadata": {
        "colab": {
          "base_uri": "https://localhost:8080/",
          "height": 36
        },
        "id": "YGPDwGOgC5P-",
        "outputId": "e954686b-e0fc-41ac-d55c-5391c7d77925"
      },
      "id": "YGPDwGOgC5P-",
      "execution_count": 23,
      "outputs": [
        {
          "output_type": "execute_result",
          "data": {
            "text/plain": [
              "'this is positive number'"
            ],
            "application/vnd.google.colaboratory.intrinsic+json": {
              "type": "string"
            }
          },
          "metadata": {},
          "execution_count": 23
        }
      ]
    },
    {
      "cell_type": "code",
      "source": [
        "def no_return():\n",
        "  pass\n",
        "\n",
        "no_return()"
      ],
      "metadata": {
        "id": "IBDe_3icDQg4"
      },
      "id": "IBDe_3icDQg4",
      "execution_count": 24,
      "outputs": []
    },
    {
      "cell_type": "code",
      "source": [
        "def multiple_values():\n",
        "  return 1,2,3\n",
        "\n",
        "a,b,c = multiple_values()"
      ],
      "metadata": {
        "id": "1GfoWQxoDvcF"
      },
      "id": "1GfoWQxoDvcF",
      "execution_count": 25,
      "outputs": []
    },
    {
      "cell_type": "code",
      "source": [
        "def check(x):\n",
        "  if x%2 == 0:\n",
        "    return \"even\"\n",
        "  else:\n",
        "    return \"odd\"\n",
        "\n",
        "check(2)"
      ],
      "metadata": {
        "colab": {
          "base_uri": "https://localhost:8080/",
          "height": 36
        },
        "id": "gS7HhjihD9oh",
        "outputId": "c2151d51-bf66-4538-e955-082a6799f6b6"
      },
      "id": "gS7HhjihD9oh",
      "execution_count": 29,
      "outputs": [
        {
          "output_type": "execute_result",
          "data": {
            "text/plain": [
              "'even'"
            ],
            "application/vnd.google.colaboratory.intrinsic+json": {
              "type": "string"
            }
          },
          "metadata": {},
          "execution_count": 29
        }
      ]
    },
    {
      "cell_type": "code",
      "source": [
        "result = (lambda x: x*2)(5)\n",
        "print(result)"
      ],
      "metadata": {
        "colab": {
          "base_uri": "https://localhost:8080/"
        },
        "id": "Wdr-SLF9ENt5",
        "outputId": "ac8b01a8-1b2b-46a5-81e9-d5f15e6f4657"
      },
      "id": "Wdr-SLF9ENt5",
      "execution_count": 31,
      "outputs": [
        {
          "output_type": "stream",
          "name": "stdout",
          "text": [
            "10\n"
          ]
        }
      ]
    },
    {
      "cell_type": "code",
      "source": [
        "def generater():\n",
        "  yield 1\n",
        "  yield 2\n",
        "  yield 3\n",
        "\n",
        "gen = generater()\n",
        "for i in gen:\n",
        "  print(i)"
      ],
      "metadata": {
        "colab": {
          "base_uri": "https://localhost:8080/"
        },
        "id": "9MNq0zNtEdU4",
        "outputId": "40a48cdb-1797-492c-d9fd-6325fd20699f"
      },
      "id": "9MNq0zNtEdU4",
      "execution_count": 32,
      "outputs": [
        {
          "output_type": "stream",
          "name": "stdout",
          "text": [
            "1\n",
            "2\n",
            "3\n"
          ]
        }
      ]
    },
    {
      "cell_type": "code",
      "source": [
        "def outer():\n",
        "  def inner():\n",
        "    return \"hello karan\"\n",
        "  return inner()\n",
        "\n",
        "fun = outer()\n",
        "print(fun)"
      ],
      "metadata": {
        "colab": {
          "base_uri": "https://localhost:8080/"
        },
        "id": "JXFVxXj9E2K0",
        "outputId": "2316ba2a-6065-4d8f-efad-84967fd80b2c"
      },
      "id": "JXFVxXj9E2K0",
      "execution_count": 36,
      "outputs": [
        {
          "output_type": "stream",
          "name": "stdout",
          "text": [
            "hello karan\n"
          ]
        }
      ]
    },
    {
      "cell_type": "code",
      "source": [
        "class Myclass:\n",
        "  def __init__(self):\n",
        "    return None\n",
        "\n",
        "a = Myclass()"
      ],
      "metadata": {
        "id": "sOEwwDZKFJGd"
      },
      "id": "sOEwwDZKFJGd",
      "execution_count": 38,
      "outputs": []
    },
    {
      "cell_type": "markdown",
      "source": [
        "#**Implement Variable length argument in python **"
      ],
      "metadata": {
        "id": "TLqc9ScDGU8H"
      },
      "id": "TLqc9ScDGU8H"
    },
    {
      "cell_type": "code",
      "source": [
        "def average(*t):\n",
        "  avg = sum(t)/len(t)\n",
        "  return avg\n",
        "\n",
        "list1 = average(10,21,41,55)\n",
        "list2 = average(1,2,3,4)\n",
        "\n",
        "print(\"Average of list1 :\",list1)\n",
        "print(\"Average of list2 : \", list2)"
      ],
      "metadata": {
        "colab": {
          "base_uri": "https://localhost:8080/"
        },
        "id": "hi4LAc6_Fv35",
        "outputId": "8bce9d85-848d-47d6-9427-7f4ff06ffb82"
      },
      "id": "hi4LAc6_Fv35",
      "execution_count": 39,
      "outputs": [
        {
          "output_type": "stream",
          "name": "stdout",
          "text": [
            "Average of list1 : 31.75\n",
            "Average of list2 :  2.5\n"
          ]
        }
      ]
    },
    {
      "cell_type": "code",
      "source": [
        "f = lambda n : 1 if n==0 else n*f(n-1)\n",
        "print(f(3))"
      ],
      "metadata": {
        "colab": {
          "base_uri": "https://localhost:8080/"
        },
        "id": "85rViwMNHRY9",
        "outputId": "bc3a5006-28ff-45f5-d824-676cea6ec41f"
      },
      "id": "85rViwMNHRY9",
      "execution_count": 41,
      "outputs": [
        {
          "output_type": "stream",
          "name": "stdout",
          "text": [
            "6\n"
          ]
        }
      ]
    },
    {
      "cell_type": "markdown",
      "source": [
        "# Reverse a String\n",
        "Question: Write a Python program to reverse a string.\n",
        "\n",
        "\n",
        "Definition: Reversing a string means rearranging the characters in reverse order.\n",
        "\n",
        "\n"
      ],
      "metadata": {
        "id": "0jGnmvO_IfKB"
      },
      "id": "0jGnmvO_IfKB"
    },
    {
      "cell_type": "code",
      "source": [
        "def reverse_string(s):\n",
        "  return s[::-1]\n",
        "\n",
        "print(reverse_string(\"karan\"))"
      ],
      "metadata": {
        "colab": {
          "base_uri": "https://localhost:8080/"
        },
        "id": "7CYI2OzaHrgH",
        "outputId": "f26e5517-27eb-406d-ee96-4a6ade660b33"
      },
      "id": "7CYI2OzaHrgH",
      "execution_count": 42,
      "outputs": [
        {
          "output_type": "stream",
          "name": "stdout",
          "text": [
            "narak\n"
          ]
        }
      ]
    },
    {
      "cell_type": "markdown",
      "source": [
        "# Check for Palindrome\n",
        "Question: Write a Python program to check if a string is a palindrome.\n",
        "\n",
        "Definition: A palindrome is a word that reads the same forwards and backward."
      ],
      "metadata": {
        "id": "nJsq2ZCYMA1Q"
      },
      "id": "nJsq2ZCYMA1Q"
    },
    {
      "cell_type": "code",
      "source": [
        "def check(x):\n",
        "  return x == x[::-1]\n",
        "\n",
        "print(check(\"karan\"))\n",
        "print(check(\"radar\"))"
      ],
      "metadata": {
        "colab": {
          "base_uri": "https://localhost:8080/"
        },
        "id": "Ytvko44DJFir",
        "outputId": "01e48c51-7119-4cdf-d17c-ce96d8403474"
      },
      "id": "Ytvko44DJFir",
      "execution_count": 53,
      "outputs": [
        {
          "output_type": "stream",
          "name": "stdout",
          "text": [
            "False\n",
            "True\n"
          ]
        }
      ]
    },
    {
      "cell_type": "code",
      "source": [
        "def check(x):\n",
        "  if x == x[::-1]:\n",
        "    return (\"{} = the string is palindrome\".format(x))\n",
        "  else:\n",
        "    return (\"{} = the string is not palindrome\".format(x))\n",
        "\n",
        "a = check(\"karan\")\n",
        "print(a)\n",
        "\n",
        "b = check(\"radar\")\n",
        "print(b)"
      ],
      "metadata": {
        "colab": {
          "base_uri": "https://localhost:8080/"
        },
        "id": "rx8o_51GJQuV",
        "outputId": "7cfc42be-414c-4c6c-90ae-f6ad37552074"
      },
      "id": "rx8o_51GJQuV",
      "execution_count": 58,
      "outputs": [
        {
          "output_type": "stream",
          "name": "stdout",
          "text": [
            "karan = the string is not palindrome\n",
            "radar = the string is palindrome\n"
          ]
        }
      ]
    },
    {
      "cell_type": "code",
      "source": [
        "x = input(\"enter your string here :\")\n",
        "\n",
        "if x == x[::-1]:\n",
        "  print(\"{} = the string is palindrome\".format(x))\n",
        "else:\n",
        "  print(\"{} = the string is not palindrome\".format(x))\n",
        "\n"
      ],
      "metadata": {
        "colab": {
          "base_uri": "https://localhost:8080/"
        },
        "id": "WQPdcwIKM97e",
        "outputId": "7a708c27-6a17-4069-8d24-744cfb055d58"
      },
      "id": "WQPdcwIKM97e",
      "execution_count": 63,
      "outputs": [
        {
          "output_type": "stream",
          "name": "stdout",
          "text": [
            "enter your string here :radar\n",
            "radar = the string is palindrome\n"
          ]
        }
      ]
    },
    {
      "cell_type": "markdown",
      "source": [
        "# Find the Factorial of a Number\n",
        "Question: Write a Python program to calculate the factorial of a number.\n",
        "\n",
        "Definition: Factorial of a number n is the product of all integers from 1 to n.\n",
        "\n",
        "5! = 5 × 4 × 3 × 2 × 1 = 120\n"
      ],
      "metadata": {
        "id": "8gnKwCSIOu2g"
      },
      "id": "8gnKwCSIOu2g"
    },
    {
      "cell_type": "code",
      "source": [
        "def factorial(n):\n",
        "  result = 1\n",
        "  for i in range(1, n+1):\n",
        "    result *= i\n",
        "  return result\n",
        "\n",
        "print(factorial(5))"
      ],
      "metadata": {
        "colab": {
          "base_uri": "https://localhost:8080/"
        },
        "id": "Ok-wk1QLOAoH",
        "outputId": "be8aede4-1e0c-4e79-eee2-f6a8d01b9e25"
      },
      "id": "Ok-wk1QLOAoH",
      "execution_count": 66,
      "outputs": [
        {
          "output_type": "stream",
          "name": "stdout",
          "text": [
            "120\n"
          ]
        }
      ]
    },
    {
      "cell_type": "code",
      "source": [
        "def factorial(n):\n",
        "  result = 1\n",
        "  while n > 0:\n",
        "    result *= n\n",
        "    n -= 1\n",
        "  return result\n",
        "\n",
        "print(factorial(5))\n"
      ],
      "metadata": {
        "colab": {
          "base_uri": "https://localhost:8080/"
        },
        "id": "54nU1LwtRNnq",
        "outputId": "bb74737a-2b3b-488a-86d8-8954ae3dedaa"
      },
      "id": "54nU1LwtRNnq",
      "execution_count": 77,
      "outputs": [
        {
          "output_type": "stream",
          "name": "stdout",
          "text": [
            "120\n"
          ]
        }
      ]
    },
    {
      "cell_type": "code",
      "source": [
        "def factorial(n):\n",
        "  result = 1\n",
        "  for i in range(1, n+1):\n",
        "    result *= i\n",
        "  return result\n",
        "\n",
        "n = int(input(\"enter:\"))\n",
        "\n",
        "\n",
        "a = factorial(n)\n",
        "print(a)\n",
        "print(f\"{a} is the factorial of {n}\")"
      ],
      "metadata": {
        "colab": {
          "base_uri": "https://localhost:8080/"
        },
        "id": "PdEpp1JKREZu",
        "outputId": "14092dfd-5c49-40e5-8a29-688c73d558fb"
      },
      "id": "PdEpp1JKREZu",
      "execution_count": 86,
      "outputs": [
        {
          "output_type": "stream",
          "name": "stdout",
          "text": [
            "enter:5\n",
            "120\n",
            "120 is the factorial of 5\n"
          ]
        }
      ]
    },
    {
      "cell_type": "markdown",
      "source": [
        "# Check for Prime Number\n",
        "Question: Write a Python program to check if a number is prime.\n",
        "\n",
        "Definition: A prime number is greater than 1 and divisible only by 1 and itself.\n",
        "\n",
        "For 7:\n",
        "Divisors: 1 and 7\n",
        "Output: True (Prime)\n",
        "\n",
        "For 8:\n",
        "Divisors: 1, 2, 4, 8\n",
        "Output: False (Not Prime)\n"
      ],
      "metadata": {
        "id": "5aSc1HufUkP3"
      },
      "id": "5aSc1HufUkP3"
    },
    {
      "cell_type": "code",
      "source": [
        "n= int(input(\"enter your number here :\"))\n",
        "\n",
        "for i in range(2,n):\n",
        "  if n % i == 0:\n",
        "    print(\"not prime \")\n",
        "    break\n",
        "\n",
        "else:\n",
        "  print(\"number is prime \")"
      ],
      "metadata": {
        "colab": {
          "base_uri": "https://localhost:8080/"
        },
        "id": "4hnuave0S9Ww",
        "outputId": "f9844496-dd0f-4bbd-cb23-9650fbd2deba"
      },
      "id": "4hnuave0S9Ww",
      "execution_count": 112,
      "outputs": [
        {
          "output_type": "stream",
          "name": "stdout",
          "text": [
            "enter your number here :8\n",
            "not prime \n"
          ]
        }
      ]
    },
    {
      "cell_type": "markdown",
      "source": [
        "# Find the Largest Element in a List\n",
        "Question: Write a Python program to find the largest element in a list.\n",
        "\n",
        "Definition: The largest element is the one with the highest value in the list.\n",
        "\n",
        "Input: [1, 5, 3, 9, 2]\n",
        "Step: Compare each element\n",
        "Output: 9 (Largest)"
      ],
      "metadata": {
        "id": "K55ZQIMeZWIj"
      },
      "id": "K55ZQIMeZWIj"
    },
    {
      "cell_type": "code",
      "source": [
        "list = [5,4,9,2,1,4]\n",
        "largest = max(list)\n",
        "print(largest)"
      ],
      "metadata": {
        "colab": {
          "base_uri": "https://localhost:8080/"
        },
        "id": "VOzrIo56VU7n",
        "outputId": "55187a86-5f22-40e5-ed95-9bebd6dfe763"
      },
      "id": "VOzrIo56VU7n",
      "execution_count": 113,
      "outputs": [
        {
          "output_type": "stream",
          "name": "stdout",
          "text": [
            "9\n"
          ]
        }
      ]
    },
    {
      "cell_type": "code",
      "source": [
        "def largest(list):\n",
        "  result = max(list)\n",
        "  return result\n",
        "\n",
        "# list = [5,4,9,2,1,4]\n",
        "\n",
        "print(largest([5,4,9,2,1,4]))"
      ],
      "metadata": {
        "colab": {
          "base_uri": "https://localhost:8080/"
        },
        "id": "cK9RjEDYZhjz",
        "outputId": "8b0b5cb4-9c46-4686-b99c-4dd7d34212ab"
      },
      "id": "cK9RjEDYZhjz",
      "execution_count": 118,
      "outputs": [
        {
          "output_type": "stream",
          "name": "stdout",
          "text": [
            "9\n"
          ]
        }
      ]
    },
    {
      "cell_type": "code",
      "source": [
        "list = [5,4,9,2,1,4]\n",
        "\n",
        "for i in list:\n",
        "  c = max(list)\n",
        "  print(c)\n",
        "  break\n"
      ],
      "metadata": {
        "colab": {
          "base_uri": "https://localhost:8080/"
        },
        "id": "FWU5LGHQZ0vJ",
        "outputId": "087440a6-7e53-4c13-f26b-6e871fab668c"
      },
      "id": "FWU5LGHQZ0vJ",
      "execution_count": 121,
      "outputs": [
        {
          "output_type": "stream",
          "name": "stdout",
          "text": [
            "9\n"
          ]
        }
      ]
    },
    {
      "cell_type": "markdown",
      "source": [
        "# Fibonacci Sequence\n",
        "Question: Write a Python program to generate a Fibonacci sequence.\n",
        "\n",
        "Definition: A Fibonacci sequence starts with 0 and 1, and each subsequent number is the sum of the previous two.\n",
        "\n",
        "0, 1 → 0+1=1 → 1+1=2 → 1+2=3 → 2+3=5\n"
      ],
      "metadata": {
        "id": "PqEoaJdvakce"
      },
      "id": "PqEoaJdvakce"
    },
    {
      "cell_type": "code",
      "source": [
        "def fibonacci(n):\n",
        "  a = 0\n",
        "  b = 1\n",
        "  if n == 1:\n",
        "    print(a)\n",
        "  else:\n",
        "\n",
        "    print(a)\n",
        "    print(b)\n",
        "\n",
        "    for i in range(3,n):\n",
        "      c = a+b\n",
        "      a = b\n",
        "      b = c\n",
        "      print(c)\n",
        "\n",
        "fibonacci(10)"
      ],
      "metadata": {
        "colab": {
          "base_uri": "https://localhost:8080/"
        },
        "id": "xJKvgbE9aQO-",
        "outputId": "61a17715-3dec-4c0d-da23-28dece34c37c"
      },
      "id": "xJKvgbE9aQO-",
      "execution_count": 133,
      "outputs": [
        {
          "output_type": "stream",
          "name": "stdout",
          "text": [
            "0\n",
            "1\n",
            "1\n",
            "2\n",
            "3\n",
            "5\n",
            "8\n",
            "13\n",
            "21\n"
          ]
        }
      ]
    },
    {
      "cell_type": "code",
      "source": [
        "a = 0\n",
        "b = 1\n",
        "\n",
        "num = int(input(\"enter your number here :\"))\n",
        "\n",
        "if num == 1:\n",
        "  print(a)\n",
        "\n",
        "else:\n",
        "  print(a)\n",
        "  print(b)\n",
        "\n",
        "  for i in range(1,num+1):\n",
        "    c = a + b\n",
        "    a = b\n",
        "    b = c\n",
        "    print(c)"
      ],
      "metadata": {
        "colab": {
          "base_uri": "https://localhost:8080/"
        },
        "id": "PkcJ1RD4cjNF",
        "outputId": "79ba09ef-dfbb-4581-d30f-f1fb049f980a"
      },
      "id": "PkcJ1RD4cjNF",
      "execution_count": 134,
      "outputs": [
        {
          "output_type": "stream",
          "name": "stdout",
          "text": [
            "enter your number here :10\n",
            "0\n",
            "1\n",
            "1\n",
            "2\n",
            "3\n",
            "5\n",
            "8\n",
            "13\n",
            "21\n",
            "34\n",
            "55\n",
            "89\n"
          ]
        }
      ]
    },
    {
      "cell_type": "markdown",
      "source": [
        "# Swap Two Variables\n",
        "Question: Write a Python program to swap two variables without a temporary variable.\n",
        "\n",
        "Definition: Swapping variables exchanges their values.\n",
        "\n",
        "a = 3, b = 5\n",
        "Swap: a ↔ b\n",
        "Output: a = 5, b = 3"
      ],
      "metadata": {
        "id": "_VWFsrKFfGYP"
      },
      "id": "_VWFsrKFfGYP"
    },
    {
      "cell_type": "code",
      "source": [
        "a = 5\n",
        "b = 6\n",
        "\n",
        "a,b = b,a\n",
        "print(a)\n",
        "print(b)"
      ],
      "metadata": {
        "colab": {
          "base_uri": "https://localhost:8080/"
        },
        "id": "JfDjtWjzeyyL",
        "outputId": "29e5bf86-0de0-4605-f4d1-86e1248111e0"
      },
      "id": "JfDjtWjzeyyL",
      "execution_count": 137,
      "outputs": [
        {
          "output_type": "stream",
          "name": "stdout",
          "text": [
            "6\n",
            "5\n"
          ]
        }
      ]
    },
    {
      "cell_type": "code",
      "source": [
        "def swap(a,b):\n",
        "  a,b = b,a\n",
        "  return a,b\n",
        "\n",
        "result = swap(5,6)\n",
        "print(result,  f\"a is {a}and b is {b}\")"
      ],
      "metadata": {
        "colab": {
          "base_uri": "https://localhost:8080/"
        },
        "id": "6xlwS4ORfUaH",
        "outputId": "1f431aa1-ef4c-43c6-cd1c-3463762dec31"
      },
      "id": "6xlwS4ORfUaH",
      "execution_count": 144,
      "outputs": [
        {
          "output_type": "stream",
          "name": "stdout",
          "text": [
            "(6, 5) a is (6, 5)and b is 5\n"
          ]
        }
      ]
    },
    {
      "cell_type": "markdown",
      "source": [
        "# Count Vowels in a String\n",
        "Question: Write a Python program to count vowels in a string.\n",
        "\n",
        "Definition: Vowels are a, e, i, o, u (case-insensitive).\n",
        "\n",
        "Input: \"Hello\"\n",
        "\n",
        "Vowels: e, o\n",
        "\n",
        "Count: 2"
      ],
      "metadata": {
        "id": "iIuvha6LgeBY"
      },
      "id": "iIuvha6LgeBY"
    },
    {
      "cell_type": "code",
      "source": [
        "sentence = input(\"enter your sentence:\")\n",
        "convert = sentence.lower()\n",
        "print(convert)\n",
        "\n",
        "count = 0\n",
        "list = ['a','e','i','o','u']\n",
        "\n",
        "for i in convert:\n",
        "  if i in list:\n",
        "    count = count+1\n",
        "\n",
        "print(f\"The count of Vowels are in the string is  =  {count} \")\n"
      ],
      "metadata": {
        "colab": {
          "base_uri": "https://localhost:8080/"
        },
        "id": "FtA_DXuFfoGP",
        "outputId": "3011d29f-d0ec-48bd-9142-f11cac4e8dce"
      },
      "id": "FtA_DXuFfoGP",
      "execution_count": 147,
      "outputs": [
        {
          "output_type": "stream",
          "name": "stdout",
          "text": [
            "enter your sentence:KARAN DABhade IS  nice  BOY   and Good person\n",
            "karan dabhade is  nice  boy   and good person\n",
            "The count of Vowels are in the string is  =  14 \n"
          ]
        }
      ]
    },
    {
      "cell_type": "code",
      "source": [
        "str = input(\"text :\")\n",
        "\n",
        "count = 0\n",
        "for i in str:\n",
        "  if i in \"aAeEiIoOuU\":\n",
        "    count += 1\n",
        "print(\"count:\", count)\n"
      ],
      "metadata": {
        "colab": {
          "base_uri": "https://localhost:8080/"
        },
        "id": "Nryph63NhYcZ",
        "outputId": "1a6da8da-0536-465c-93a2-08307b64b9d9"
      },
      "id": "Nryph63NhYcZ",
      "execution_count": 150,
      "outputs": [
        {
          "output_type": "stream",
          "name": "stdout",
          "text": [
            "text :kRAN\n",
            "count: 1\n"
          ]
        }
      ]
    },
    {
      "cell_type": "code",
      "source": [
        "def vowel(str):\n",
        "  count = 0\n",
        "  for i in str:\n",
        "    if i in \"aAeEiIoOuU\":\n",
        "      count += 1\n",
        "  return count\n",
        "\n",
        "str = input(\"text :\")\n",
        "\n",
        "print(vowel(str))\n"
      ],
      "metadata": {
        "colab": {
          "base_uri": "https://localhost:8080/"
        },
        "id": "4Sg4-CL3jjLD",
        "outputId": "072e10d7-d7cd-4e66-d0be-a7d6f70d22f2"
      },
      "id": "4Sg4-CL3jjLD",
      "execution_count": 151,
      "outputs": [
        {
          "output_type": "stream",
          "name": "stdout",
          "text": [
            "text :karan\n",
            "2\n"
          ]
        }
      ]
    },
    {
      "cell_type": "markdown",
      "source": [
        "#ort a List\n",
        "Question: Write a Python program to sort a list in ascending order.\n",
        "\n",
        "Definition: Sorting rearranges elements from smallest to largest.\n",
        "\n",
        "Input: [3, 1, 4, 1, 5]\n",
        "\n",
        "Sorted: [1, 1, 3, 4, 5]"
      ],
      "metadata": {
        "id": "wyQxxHuqkXe6"
      },
      "id": "wyQxxHuqkXe6"
    },
    {
      "cell_type": "code",
      "source": [
        "def sort(list):\n",
        "  return sorted(list)\n",
        "\n",
        "list  = [5,1,2,7,3,4,6]\n",
        "\n",
        "print(sort(list))"
      ],
      "metadata": {
        "colab": {
          "base_uri": "https://localhost:8080/"
        },
        "id": "pFTO99F1kVz6",
        "outputId": "4eb6d6a6-0baa-4d3b-c5bd-84a867657706"
      },
      "id": "pFTO99F1kVz6",
      "execution_count": 5,
      "outputs": [
        {
          "output_type": "stream",
          "name": "stdout",
          "text": [
            "[1, 2, 3, 4, 5, 6, 7]\n"
          ]
        }
      ]
    },
    {
      "cell_type": "code",
      "source": [
        "list  = [5,1,2,7,3,4,6]\n",
        "sort_array = sort(list)\n",
        "print(sort_array)"
      ],
      "metadata": {
        "colab": {
          "base_uri": "https://localhost:8080/"
        },
        "id": "mfn0RjvQkP3W",
        "outputId": "fabb28b9-2a80-4254-ce61-cd52c3498e7b"
      },
      "id": "mfn0RjvQkP3W",
      "execution_count": 6,
      "outputs": [
        {
          "output_type": "stream",
          "name": "stdout",
          "text": [
            "[1, 2, 3, 4, 5, 6, 7]\n"
          ]
        }
      ]
    },
    {
      "cell_type": "markdown",
      "source": [
        "#  Find Duplicates in a List\n",
        "Question: Write a Python program to find duplicates in a list.\n",
        "\n",
        "Definition: A duplicate is a value that appears more than once.\n",
        "\n",
        "Input: [1, 2, 3, 1, 2, 4]\n",
        "\n",
        "Seen: 1, 2\n",
        "\n",
        "Duplicates: [1, 2]"
      ],
      "metadata": {
        "id": "WPKTrUZgn3ZV"
      },
      "id": "WPKTrUZgn3ZV"
    },
    {
      "cell_type": "code",
      "source": [
        "def find_duplicates_for(lst):\n",
        "\n",
        "    seen = set()\n",
        "    duplicates = set()\n",
        "\n",
        "    for item in lst:\n",
        "        if item in seen:\n",
        "            duplicates.add(item)\n",
        "        else:\n",
        "            seen.add(item)\n",
        "    return duplicates\n",
        "\n",
        "print(find_duplicates_for([1, 2, 3, 1, 2, 4]))"
      ],
      "metadata": {
        "colab": {
          "base_uri": "https://localhost:8080/"
        },
        "id": "HKZ-T6hKl_3U",
        "outputId": "189bc0a7-158b-4618-c0f0-0c21bc3f9d96"
      },
      "id": "HKZ-T6hKl_3U",
      "execution_count": 29,
      "outputs": [
        {
          "output_type": "stream",
          "name": "stdout",
          "text": [
            "{1, 2}\n"
          ]
        }
      ]
    },
    {
      "cell_type": "code",
      "source": [
        "def unique_list(list):\n",
        "  duplicates = []\n",
        "  unique_number = set()\n",
        "\n",
        "  for i in list:\n",
        "    if i in unique_number:\n",
        "      duplicates.append(i)\n",
        "\n",
        "    else:\n",
        "      unique_number.add(i)\n",
        "\n",
        "  return duplicates\n",
        "\n",
        "list = [1,4,1,2,4,2,5,6,7,7,8]\n",
        "a = unique_list(list)\n",
        "print(a)\n",
        "\n",
        "\n"
      ],
      "metadata": {
        "colab": {
          "base_uri": "https://localhost:8080/"
        },
        "id": "I9MBZZKWot9H",
        "outputId": "ed5dfe4f-f63b-4e57-8546-852a26ac8f51"
      },
      "id": "I9MBZZKWot9H",
      "execution_count": 26,
      "outputs": [
        {
          "output_type": "stream",
          "name": "stdout",
          "text": [
            "[1, 4, 2, 7]\n"
          ]
        }
      ]
    },
    {
      "cell_type": "code",
      "source": [],
      "metadata": {
        "id": "bpw6yWB8qIC2"
      },
      "id": "bpw6yWB8qIC2",
      "execution_count": null,
      "outputs": []
    }
  ],
  "metadata": {
    "kernelspec": {
      "display_name": "Python 3",
      "name": "python3"
    },
    "language_info": {
      "name": "python"
    },
    "required_libs": [],
    "colab": {
      "provenance": [],
      "include_colab_link": true
    }
  },
  "nbformat": 4,
  "nbformat_minor": 5
}